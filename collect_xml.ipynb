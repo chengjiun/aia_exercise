{
 "cells": [
  {
   "cell_type": "markdown",
   "metadata": {},
   "source": [
    "# TOP \n",
    "- 只是用來把所有xml檔收集起來 整理成dataframe"
   ]
  },
  {
   "cell_type": "code",
   "execution_count": 1,
   "metadata": {},
   "outputs": [],
   "source": [
    "import pandas as pd\n",
    "import numpy as np\n",
    "import seaborn as sns\n",
    "import matplotlib as plt\n",
    "from glob import glob\n",
    "%matplotlib inline"
   ]
  },
  {
   "cell_type": "code",
   "execution_count": 2,
   "metadata": {},
   "outputs": [],
   "source": [
    "from pathlib import Path"
   ]
  },
  {
   "cell_type": "code",
   "execution_count": 3,
   "metadata": {},
   "outputs": [],
   "source": [
    "base = Path('/home/jovyan/AOI/data/')\n",
    "data1_path = base / '20180703'\n",
    "data1_label_path = data1_path / 'label'\n",
    "data2_path = base / '20180705'\n",
    "data2_label_path = data1_path / 'label'\n",
    "data3_path = base / '20180726_S1'"
   ]
  },
  {
   "cell_type": "code",
   "execution_count": 4,
   "metadata": {},
   "outputs": [],
   "source": [
    "from helper import read_files2df"
   ]
  },
  {
   "cell_type": "code",
   "execution_count": null,
   "metadata": {},
   "outputs": [],
   "source": [
    "files = glob(str(data3_path / 'final' / '*' / '*.xml'))\n",
    "df = read_files2df(files)\n",
    "files = glob(str(data2_path / 'final' / '*' / '*.xml'))\n",
    "df2 = read_files2df(files)\n",
    "files = glob(str(data1_path / 'final' / '*' / '*.xml'))\n",
    "df3 = read_files2df(files)\n",
    "total_xml_df = pd.concat([df, df2, df3],axis=0)\n",
    "total_xml_df.to_pickle('./all_xml_df.p')"
   ]
  },
  {
   "cell_type": "markdown",
   "metadata": {},
   "source": [
    "# collect all final_csv"
   ]
  },
  {
   "cell_type": "code",
   "execution_count": 5,
   "metadata": {},
   "outputs": [],
   "source": [
    "data1_table = pd.read_csv(data1_path / 'final.csv')\n",
    "data2_table = pd.read_csv(data2_path / 'final.csv')\n",
    "data3_table = pd.read_csv(data3_path / 'final.csv')\n",
    "data1_table['path'] = '20180703'\n",
    "data2_table['path'] = '20180705'\n",
    "data3_table['path'] = '20180726'\n",
    "data_table = pd.concat([data1_table, data2_table, data3_table], axis=0, sort=False)\n",
    "data_table.to_pickle('./all_finalcsv.p')"
   ]
  },
  {
   "cell_type": "code",
   "execution_count": null,
   "metadata": {},
   "outputs": [],
   "source": []
  }
 ],
 "metadata": {
  "kernelspec": {
   "display_name": "Python 3",
   "language": "python",
   "name": "python3"
  },
  "language_info": {
   "codemirror_mode": {
    "name": "ipython",
    "version": 3
   },
   "file_extension": ".py",
   "mimetype": "text/x-python",
   "name": "python",
   "nbconvert_exporter": "python",
   "pygments_lexer": "ipython3",
   "version": "3.6.4"
  }
 },
 "nbformat": 4,
 "nbformat_minor": 2
}
