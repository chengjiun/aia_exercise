{
 "cells": [
  {
   "cell_type": "markdown",
   "metadata": {},
   "source": [
    "# TOP \n",
    "- 只是用來把所有xml檔收集起來 整理成dataframe"
   ]
  },
  {
   "cell_type": "code",
   "execution_count": 1,
   "metadata": {},
   "outputs": [],
   "source": [
    "import pandas as pd\n",
    "import numpy as np\n",
    "import seaborn as sns\n",
    "import matplotlib as plt\n",
    "from glob import glob\n",
    "%matplotlib inline"
   ]
  },
  {
   "cell_type": "code",
   "execution_count": 2,
   "metadata": {},
   "outputs": [],
   "source": [
    "from pathlib import Path"
   ]
  },
  {
   "cell_type": "code",
   "execution_count": 3,
   "metadata": {},
   "outputs": [],
   "source": [
    "base = Path('/home/jovyan/AOI/data/')\n",
    "data1_path = base / '20180703'\n",
    "data1_label_path = data1_path / 'label'\n",
    "data2_path = base / '20180705'\n",
    "data2_label_path = data1_path / 'label'\n",
    "data3_path = base / '20180726_S1'"
   ]
  },
  {
   "cell_type": "code",
   "execution_count": 4,
   "metadata": {},
   "outputs": [],
   "source": [
    "from helper import read_files2df"
   ]
  },
  {
   "cell_type": "code",
   "execution_count": 5,
   "metadata": {},
   "outputs": [],
   "source": [
    "files = glob(str(data3_path / 'final' / '*' / '*.xml'))\n",
    "df = read_files2df(files)\n",
    "files = glob(str(data2_path / 'final' / '*' / '*.xml'))\n",
    "df2 = read_files2df(files)\n",
    "files = glob(str(data1_path / 'final' / '*' / '*.xml'))\n",
    "df3 = read_files2df(files)\n",
    "total_xml_df = pd.concat([df, df2, df3],axis=0)\n",
    "total_xml_df.index = [x.replace('.xml','.jpg') for x in total_xml_df.index]\n",
    "total_xml_df.to_pickle('./all_xml_df.p')"
   ]
  },
  {
   "cell_type": "code",
   "execution_count": 6,
   "metadata": {},
   "outputs": [
    {
     "data": {
      "text/html": [
       "<div>\n",
       "<style scoped>\n",
       "    .dataframe tbody tr th:only-of-type {\n",
       "        vertical-align: middle;\n",
       "    }\n",
       "\n",
       "    .dataframe tbody tr th {\n",
       "        vertical-align: top;\n",
       "    }\n",
       "\n",
       "    .dataframe thead th {\n",
       "        text-align: right;\n",
       "    }\n",
       "</style>\n",
       "<table border=\"1\" class=\"dataframe\">\n",
       "  <thead>\n",
       "    <tr style=\"text-align: right;\">\n",
       "      <th></th>\n",
       "      <th>image_size_depth</th>\n",
       "      <th>image_size_height</th>\n",
       "      <th>image_size_width</th>\n",
       "      <th>label</th>\n",
       "      <th>op_defect_name</th>\n",
       "      <th>path</th>\n",
       "      <th>pose</th>\n",
       "      <th>real_subfolder</th>\n",
       "      <th>subfolder</th>\n",
       "      <th>xmax</th>\n",
       "      <th>xmin</th>\n",
       "      <th>ymax</th>\n",
       "      <th>ymin</th>\n",
       "    </tr>\n",
       "  </thead>\n",
       "  <tbody>\n",
       "    <tr>\n",
       "      <th>/home/jovyan/AOI/data/20180726_S1/final/fail/C02_115_000167.jpg</th>\n",
       "      <td>3.0</td>\n",
       "      <td>2048.0</td>\n",
       "      <td>1536.0</td>\n",
       "      <td>fail</td>\n",
       "      <td>C08</td>\n",
       "      <td>20180726_S1</td>\n",
       "      <td>Unspecified</td>\n",
       "      <td>fail</td>\n",
       "      <td>fail</td>\n",
       "      <td>905</td>\n",
       "      <td>655</td>\n",
       "      <td>905</td>\n",
       "      <td>1282</td>\n",
       "    </tr>\n",
       "    <tr>\n",
       "      <th>/home/jovyan/AOI/data/20180726_S1/final/fail/C02_115_000168.jpg</th>\n",
       "      <td>3.0</td>\n",
       "      <td>2048.0</td>\n",
       "      <td>1536.0</td>\n",
       "      <td>fail</td>\n",
       "      <td>C08</td>\n",
       "      <td>20180726_S1</td>\n",
       "      <td>Unspecified</td>\n",
       "      <td>fail</td>\n",
       "      <td>fail</td>\n",
       "      <td>276</td>\n",
       "      <td>197</td>\n",
       "      <td>276</td>\n",
       "      <td>1335</td>\n",
       "    </tr>\n",
       "    <tr>\n",
       "      <th>/home/jovyan/AOI/data/20180726_S1/final/fail/C02_200_031750.jpg</th>\n",
       "      <td>3.0</td>\n",
       "      <td>2048.0</td>\n",
       "      <td>1536.0</td>\n",
       "      <td>fail</td>\n",
       "      <td>C08</td>\n",
       "      <td>20180726_S1</td>\n",
       "      <td>Unspecified</td>\n",
       "      <td>fail</td>\n",
       "      <td>fail</td>\n",
       "      <td>702</td>\n",
       "      <td>600</td>\n",
       "      <td>702</td>\n",
       "      <td>1501</td>\n",
       "    </tr>\n",
       "    <tr>\n",
       "      <th>/home/jovyan/AOI/data/20180726_S1/final/fail/C02_204_003678.jpg</th>\n",
       "      <td>3.0</td>\n",
       "      <td>2048.0</td>\n",
       "      <td>1536.0</td>\n",
       "      <td>fail</td>\n",
       "      <td>C08</td>\n",
       "      <td>20180726_S1</td>\n",
       "      <td>Unspecified</td>\n",
       "      <td>fail</td>\n",
       "      <td>fail</td>\n",
       "      <td>648</td>\n",
       "      <td>605</td>\n",
       "      <td>648</td>\n",
       "      <td>1427</td>\n",
       "    </tr>\n",
       "    <tr>\n",
       "      <th>/home/jovyan/AOI/data/20180726_S1/final/fail/S07_200_031400.jpg</th>\n",
       "      <td>3.0</td>\n",
       "      <td>2048.0</td>\n",
       "      <td>1536.0</td>\n",
       "      <td>fail</td>\n",
       "      <td>C02</td>\n",
       "      <td>20180726_S1</td>\n",
       "      <td>Unspecified</td>\n",
       "      <td>fail</td>\n",
       "      <td>fail</td>\n",
       "      <td>702</td>\n",
       "      <td>600</td>\n",
       "      <td>702</td>\n",
       "      <td>1494</td>\n",
       "    </tr>\n",
       "  </tbody>\n",
       "</table>\n",
       "</div>"
      ],
      "text/plain": [
       "                                                    image_size_depth  \\\n",
       "/home/jovyan/AOI/data/20180726_S1/final/fail/C0...               3.0   \n",
       "/home/jovyan/AOI/data/20180726_S1/final/fail/C0...               3.0   \n",
       "/home/jovyan/AOI/data/20180726_S1/final/fail/C0...               3.0   \n",
       "/home/jovyan/AOI/data/20180726_S1/final/fail/C0...               3.0   \n",
       "/home/jovyan/AOI/data/20180726_S1/final/fail/S0...               3.0   \n",
       "\n",
       "                                                    image_size_height  \\\n",
       "/home/jovyan/AOI/data/20180726_S1/final/fail/C0...             2048.0   \n",
       "/home/jovyan/AOI/data/20180726_S1/final/fail/C0...             2048.0   \n",
       "/home/jovyan/AOI/data/20180726_S1/final/fail/C0...             2048.0   \n",
       "/home/jovyan/AOI/data/20180726_S1/final/fail/C0...             2048.0   \n",
       "/home/jovyan/AOI/data/20180726_S1/final/fail/S0...             2048.0   \n",
       "\n",
       "                                                    image_size_width label  \\\n",
       "/home/jovyan/AOI/data/20180726_S1/final/fail/C0...            1536.0  fail   \n",
       "/home/jovyan/AOI/data/20180726_S1/final/fail/C0...            1536.0  fail   \n",
       "/home/jovyan/AOI/data/20180726_S1/final/fail/C0...            1536.0  fail   \n",
       "/home/jovyan/AOI/data/20180726_S1/final/fail/C0...            1536.0  fail   \n",
       "/home/jovyan/AOI/data/20180726_S1/final/fail/S0...            1536.0  fail   \n",
       "\n",
       "                                                   op_defect_name  \\\n",
       "/home/jovyan/AOI/data/20180726_S1/final/fail/C0...            C08   \n",
       "/home/jovyan/AOI/data/20180726_S1/final/fail/C0...            C08   \n",
       "/home/jovyan/AOI/data/20180726_S1/final/fail/C0...            C08   \n",
       "/home/jovyan/AOI/data/20180726_S1/final/fail/C0...            C08   \n",
       "/home/jovyan/AOI/data/20180726_S1/final/fail/S0...            C02   \n",
       "\n",
       "                                                           path         pose  \\\n",
       "/home/jovyan/AOI/data/20180726_S1/final/fail/C0...  20180726_S1  Unspecified   \n",
       "/home/jovyan/AOI/data/20180726_S1/final/fail/C0...  20180726_S1  Unspecified   \n",
       "/home/jovyan/AOI/data/20180726_S1/final/fail/C0...  20180726_S1  Unspecified   \n",
       "/home/jovyan/AOI/data/20180726_S1/final/fail/C0...  20180726_S1  Unspecified   \n",
       "/home/jovyan/AOI/data/20180726_S1/final/fail/S0...  20180726_S1  Unspecified   \n",
       "\n",
       "                                                   real_subfolder subfolder  \\\n",
       "/home/jovyan/AOI/data/20180726_S1/final/fail/C0...           fail      fail   \n",
       "/home/jovyan/AOI/data/20180726_S1/final/fail/C0...           fail      fail   \n",
       "/home/jovyan/AOI/data/20180726_S1/final/fail/C0...           fail      fail   \n",
       "/home/jovyan/AOI/data/20180726_S1/final/fail/C0...           fail      fail   \n",
       "/home/jovyan/AOI/data/20180726_S1/final/fail/S0...           fail      fail   \n",
       "\n",
       "                                                   xmax xmin ymax  ymin  \n",
       "/home/jovyan/AOI/data/20180726_S1/final/fail/C0...  905  655  905  1282  \n",
       "/home/jovyan/AOI/data/20180726_S1/final/fail/C0...  276  197  276  1335  \n",
       "/home/jovyan/AOI/data/20180726_S1/final/fail/C0...  702  600  702  1501  \n",
       "/home/jovyan/AOI/data/20180726_S1/final/fail/C0...  648  605  648  1427  \n",
       "/home/jovyan/AOI/data/20180726_S1/final/fail/S0...  702  600  702  1494  "
      ]
     },
     "execution_count": 6,
     "metadata": {},
     "output_type": "execute_result"
    }
   ],
   "source": [
    "total_xml_df = pd.read_pickle('./all_xml_df.p')\n",
    "total_xml_df.head()"
   ]
  },
  {
   "cell_type": "markdown",
   "metadata": {},
   "source": [
    "# subfolder is outdated. label == real_subfolder"
   ]
  },
  {
   "cell_type": "code",
   "execution_count": 20,
   "metadata": {},
   "outputs": [
    {
     "data": {
      "text/plain": [
       "label  subfolder\n",
       "fail   all/t_001     221\n",
       "       all/t_002     103\n",
       "       all/t_004       2\n",
       "       fail          240\n",
       "pass   all/t_001    2787\n",
       "       all/t_002    1680\n",
       "       all/t_003    1787\n",
       "       all/t_004    1047\n",
       "       all/t_011    1815\n",
       "       all/t_016     742\n",
       "       fail            1\n",
       "Name: pose, dtype: int64"
      ]
     },
     "execution_count": 20,
     "metadata": {},
     "output_type": "execute_result"
    }
   ],
   "source": [
    "(total_xml_df[['subfolder', 'real_subfolder','label', 'pose']]\n",
    "            .groupby(['label','subfolder'])['pose']\n",
    "            .count())\n"
   ]
  },
  {
   "cell_type": "code",
   "execution_count": 22,
   "metadata": {},
   "outputs": [
    {
     "data": {
      "text/plain": [
       "label  real_subfolder\n",
       "fail   fail               566\n",
       "pass   pass              9859\n",
       "Name: pose, dtype: int64"
      ]
     },
     "execution_count": 22,
     "metadata": {},
     "output_type": "execute_result"
    }
   ],
   "source": [
    "(total_xml_df[['subfolder', 'real_subfolder','label', 'pose']]\n",
    "            .groupby(['label','real_subfolder'])['pose']\n",
    "            .count())\n"
   ]
  },
  {
   "cell_type": "markdown",
   "metadata": {},
   "source": [
    "# collect all final_csv"
   ]
  },
  {
   "cell_type": "code",
   "execution_count": 23,
   "metadata": {},
   "outputs": [],
   "source": [
    "data1_table = pd.read_csv(data1_path / 'final.csv')\n",
    "data2_table = pd.read_csv(data2_path / 'final.csv')\n",
    "data3_table = pd.read_csv(data3_path / 'final.csv')\n",
    "data1_table['path'] = '20180703'\n",
    "data2_table['path'] = '20180705'\n",
    "data2_table['jpg_dir'] = data2_table['newfile'].apply(lambda x: x.split('/')[0])\n",
    "data2_table['jpg_name'] = data2_table['newfile'].apply(lambda x: x.split('/')[1])\n",
    "data3_table['path'] = '20180726_S1'\n",
    "data_table = pd.concat([data1_table, data2_table, data3_table], axis=0, sort=False)\n"
   ]
  },
  {
   "cell_type": "code",
   "execution_count": 24,
   "metadata": {},
   "outputs": [],
   "source": [
    "from pathlib import Path\n",
    "data_table['subfolder'] = 'pass'\n",
    "data_table.loc[data_table['label'] == 0, 'subfolder'] = 'fail'\n",
    "data_table['image_filename'] = ('/home/jovyan/AOI/data/' + data_table['path'] + \n",
    "                                '/final/' + data_table['subfolder'] + '/' +\n",
    "                                data_table['jpg_name'])\n"
   ]
  },
  {
   "cell_type": "code",
   "execution_count": 25,
   "metadata": {},
   "outputs": [],
   "source": [
    "import os\n",
    "file_exist = []\n",
    "for row in data_table.iterrows():\n",
    "    file_exist.append(os.path.isfile(row[1]['image_filename']))\n",
    "data_table['file_exist'] = file_exist"
   ]
  },
  {
   "cell_type": "code",
   "execution_count": 26,
   "metadata": {},
   "outputs": [],
   "source": [
    "data_table.set_index('image_filename', inplace=True)"
   ]
  },
  {
   "cell_type": "code",
   "execution_count": 27,
   "metadata": {},
   "outputs": [],
   "source": [
    "if 'new_sub_part' in data_table.columns:\n",
    "    data_table.drop(columns='new_sub_part', inplace=True)\n",
    "data_table.to_pickle('./all_finalcsv.p')"
   ]
  },
  {
   "cell_type": "code",
   "execution_count": 28,
   "metadata": {},
   "outputs": [],
   "source": [
    "total_xml_df = pd.read_pickle('./all_xml_df.p')\n",
    "total_xml_df.drop(columns=['path','label', 'real_subfolder','pose', 'subfolder'],inplace=True)\n",
    "total_xml_df.rename(columns={'xmax':'X2', 'xmin':'X1', 'ymin': 'Y1', 'ymax':'Y2'}, inplace=True)"
   ]
  },
  {
   "cell_type": "code",
   "execution_count": 29,
   "metadata": {},
   "outputs": [],
   "source": [
    "data_table = pd.read_pickle('./all_finalcsv.p')\n",
    "data_table = data_table.join(total_xml_df,lsuffix='_csv',rsuffix='_xml', on='image_filename', how='inner')\n",
    "data_table.to_pickle('./all_finalcsv.p')"
   ]
  },
  {
   "cell_type": "code",
   "execution_count": 30,
   "metadata": {},
   "outputs": [
    {
     "data": {
      "text/plain": [
       "cModel                        S0PEC4654004Z-T\n",
       "BoardSN                          EC1826001696\n",
       "CompName                               C227_1\n",
       "Type                            204300000024A\n",
       "MachineDefect                       VOID FAIL\n",
       "ConfirmDefect                             NaN\n",
       "X1_csv                                    374\n",
       "Y1_csv                                    481\n",
       "X2_csv                                    399\n",
       "Y2_csv                                    576\n",
       "jpg_dir                                 t_001\n",
       "jpg_name                   S07_204_000004.jpg\n",
       "newfile              t_001/S07_204_000004.jpg\n",
       "newdefect                                 S07\n",
       "new_location                                C\n",
       "new_part_type                             204\n",
       "label                                       1\n",
       "path                                 20180703\n",
       "subfolder                                pass\n",
       "file_exist                               True\n",
       "image_size_depth                            3\n",
       "image_size_height                        2048\n",
       "image_size_width                         1536\n",
       "op_defect_name                            S07\n",
       "X2_xml                                    399\n",
       "X1_xml                                    374\n",
       "Y2_xml                                    399\n",
       "Y1_xml                                    481\n",
       "Name: /home/jovyan/AOI/data/20180703/final/pass/S07_204_000004.jpg, dtype: object"
      ]
     },
     "execution_count": 30,
     "metadata": {},
     "output_type": "execute_result"
    }
   ],
   "source": [
    "data_table.iloc[0].transpose()"
   ]
  },
  {
   "cell_type": "code",
   "execution_count": null,
   "metadata": {},
   "outputs": [],
   "source": []
  }
 ],
 "metadata": {
  "kernelspec": {
   "display_name": "Python 3",
   "language": "python",
   "name": "python3"
  },
  "language_info": {
   "codemirror_mode": {
    "name": "ipython",
    "version": 3
   },
   "file_extension": ".py",
   "mimetype": "text/x-python",
   "name": "python",
   "nbconvert_exporter": "python",
   "pygments_lexer": "ipython3",
   "version": "3.6.4"
  }
 },
 "nbformat": 4,
 "nbformat_minor": 2
}
